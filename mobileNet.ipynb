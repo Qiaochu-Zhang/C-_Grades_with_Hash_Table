{
  "cells": [
    {
      "cell_type": "markdown",
      "metadata": {
        "id": "view-in-github",
        "colab_type": "text"
      },
      "source": [
        "<a href=\"https://colab.research.google.com/github/Qiaochu-Zhang/C-_Grades_with_Hash_Table/blob/main/mobileNet.ipynb\" target=\"_parent\"><img src=\"https://colab.research.google.com/assets/colab-badge.svg\" alt=\"Open In Colab\"/></a>"
      ]
    },
    {
      "cell_type": "code",
      "execution_count": null,
      "metadata": {
        "colab": {
          "base_uri": "https://localhost:8080/"
        },
        "id": "I3pQ7RInQBa1",
        "outputId": "f5623224-3d43-458a-d254-00a0a6003921"
      },
      "outputs": [
        {
          "name": "stdout",
          "output_type": "stream",
          "text": [
            "Using device: cuda\n"
          ]
        }
      ],
      "source": [
        "import torch\n",
        "device = torch.device(\"cuda\" if torch.cuda.is_available() else \"cpu\")\n",
        "print(f\"Using device: {device}\")\n"
      ]
    },
    {
      "cell_type": "code",
      "execution_count": null,
      "metadata": {
        "colab": {
          "base_uri": "https://localhost:8080/"
        },
        "id": "Ln7sN3vTkX8M",
        "outputId": "a5e2d7b3-49f4-4e3b-df13-077a19edd778"
      },
      "outputs": [
        {
          "name": "stdout",
          "output_type": "stream",
          "text": [
            "Mounted at /content/drive\n"
          ]
        }
      ],
      "source": [
        "from google.colab import drive\n",
        "drive.mount('/content/drive')"
      ]
    },
    {
      "cell_type": "code",
      "execution_count": null,
      "metadata": {
        "colab": {
          "base_uri": "https://localhost:8080/"
        },
        "id": "QHJf7JdDkvUp",
        "outputId": "2b9845b9-f6d1-4bf7-eb81-d8f9ed910716"
      },
      "outputs": [
        {
          "name": "stdout",
          "output_type": "stream",
          "text": [
            "Requirement already satisfied: torch in /usr/local/lib/python3.10/dist-packages (2.5.0+cu121)\n",
            "Requirement already satisfied: torchvision in /usr/local/lib/python3.10/dist-packages (0.20.0+cu121)\n",
            "Requirement already satisfied: filelock in /usr/local/lib/python3.10/dist-packages (from torch) (3.16.1)\n",
            "Requirement already satisfied: typing-extensions>=4.8.0 in /usr/local/lib/python3.10/dist-packages (from torch) (4.12.2)\n",
            "Requirement already satisfied: networkx in /usr/local/lib/python3.10/dist-packages (from torch) (3.4.2)\n",
            "Requirement already satisfied: jinja2 in /usr/local/lib/python3.10/dist-packages (from torch) (3.1.4)\n",
            "Requirement already satisfied: fsspec in /usr/local/lib/python3.10/dist-packages (from torch) (2024.6.1)\n",
            "Requirement already satisfied: sympy==1.13.1 in /usr/local/lib/python3.10/dist-packages (from torch) (1.13.1)\n",
            "Requirement already satisfied: mpmath<1.4,>=1.1.0 in /usr/local/lib/python3.10/dist-packages (from sympy==1.13.1->torch) (1.3.0)\n",
            "Requirement already satisfied: numpy in /usr/local/lib/python3.10/dist-packages (from torchvision) (1.26.4)\n",
            "Requirement already satisfied: pillow!=8.3.*,>=5.3.0 in /usr/local/lib/python3.10/dist-packages (from torchvision) (10.4.0)\n",
            "Requirement already satisfied: MarkupSafe>=2.0 in /usr/local/lib/python3.10/dist-packages (from jinja2->torch) (3.0.2)\n",
            "Requirement already satisfied: opencv-python in /usr/local/lib/python3.10/dist-packages (4.10.0.84)\n",
            "Requirement already satisfied: numpy>=1.21.2 in /usr/local/lib/python3.10/dist-packages (from opencv-python) (1.26.4)\n"
          ]
        }
      ],
      "source": [
        "!pip install torch torchvision\n",
        "!pip install opencv-python"
      ]
    },
    {
      "cell_type": "code",
      "execution_count": null,
      "metadata": {
        "colab": {
          "background_save": true,
          "base_uri": "https://localhost:8080/"
        },
        "id": "ZNVbwOotk1eB",
        "outputId": "cead01ee-05dd-4ce7-e608-060b998256c4"
      },
      "outputs": [
        {
          "name": "stdout",
          "output_type": "stream",
          "text": [
            "Using device: cuda\n",
            "Training+Validation set size: 268\n",
            "Test set size: 30\n"
          ]
        },
        {
          "name": "stderr",
          "output_type": "stream",
          "text": [
            "Downloading: \"https://download.pytorch.org/models/mobilenet_v2-7ebf99e0.pth\" to /root/.cache/torch/hub/checkpoints/mobilenet_v2-7ebf99e0.pth\n",
            "100%|██████████| 13.6M/13.6M [00:00<00:00, 52.6MB/s]\n"
          ]
        },
        {
          "name": "stdout",
          "output_type": "stream",
          "text": [
            "\n",
            "Fold 1\n",
            "-------------------\n",
            "Epoch [1/5], Loss: 0.6653\n",
            "Epoch [2/5], Loss: 0.5591\n",
            "Epoch [3/5], Loss: 0.4459\n",
            "Epoch [4/5], Loss: 0.3147\n",
            "Epoch [5/5], Loss: 0.2382\n",
            "Fold 1 Accuracy: 88.89%\n",
            "\n",
            "Fold 2\n",
            "-------------------\n",
            "Epoch [1/5], Loss: 0.2355\n",
            "Epoch [2/5], Loss: 0.1276\n",
            "Epoch [3/5], Loss: 0.1003\n",
            "Epoch [4/5], Loss: 0.1071\n",
            "Epoch [5/5], Loss: 0.1358\n",
            "Fold 2 Accuracy: 100.00%\n",
            "\n",
            "Fold 3\n",
            "-------------------\n",
            "Epoch [1/5], Loss: 0.0622\n",
            "Epoch [2/5], Loss: 0.0621\n",
            "Epoch [3/5], Loss: 0.0429\n",
            "Epoch [4/5], Loss: 0.0352\n",
            "Epoch [5/5], Loss: 0.0200\n",
            "Fold 3 Accuracy: 100.00%\n",
            "\n",
            "Fold 4\n",
            "-------------------\n",
            "Epoch [1/5], Loss: 0.0347\n",
            "Epoch [2/5], Loss: 0.0293\n",
            "Epoch [3/5], Loss: 0.0750\n",
            "Epoch [4/5], Loss: 0.0348\n",
            "Epoch [5/5], Loss: 0.0307\n",
            "Fold 4 Accuracy: 100.00%\n",
            "\n",
            "Fold 5\n",
            "-------------------\n",
            "Epoch [1/5], Loss: 0.0684\n",
            "Epoch [2/5], Loss: 0.0299\n",
            "Epoch [3/5], Loss: 0.0184\n",
            "Epoch [4/5], Loss: 0.0396\n",
            "Epoch [5/5], Loss: 0.0365\n",
            "Fold 5 Accuracy: 100.00%\n",
            "\n",
            "Test Accuracy: 76.67%\n"
          ]
        }
      ],
      "source": [
        "import torch\n",
        "import torch.nn as nn\n",
        "import torch.optim as optim\n",
        "from torchvision import transforms, models\n",
        "from torch.utils.data import Dataset, DataLoader, Subset\n",
        "import cv2\n",
        "import os\n",
        "from PIL import Image\n",
        "import numpy as np\n",
        "from sklearn.model_selection import KFold, train_test_split\n",
        "import random\n",
        "import matplotlib.pyplot as plt\n",
        "\n",
        "# 检查是否有GPU可用\n",
        "device = torch.device(\"cuda\" if torch.cuda.is_available() else \"cpu\")\n",
        "print(f\"Using device: {device}\")\n",
        "\n",
        "# 设置随机种子\n",
        "torch.manual_seed(42)\n",
        "np.random.seed(42)\n",
        "random.seed(42)\n",
        "\n",
        "# 自定义数据集类\n",
        "class NoiseDataset(Dataset):\n",
        "    def __init__(self, image_folder, label):\n",
        "        self.image_paths = [\n",
        "            os.path.join(image_folder, img)\n",
        "            for img in os.listdir(image_folder)\n",
        "            if img.lower().endswith(('.jpg', '.jpeg'))\n",
        "        ]\n",
        "        self.image_paths = [path for path in self.image_paths if cv2.imread(path) is not None]\n",
        "        self.labels = [label] * len(self.image_paths)\n",
        "        self.transform = transforms.Compose([\n",
        "            transforms.Resize((224, 224)),\n",
        "            transforms.ToTensor(),\n",
        "            transforms.Normalize(mean=[0.485], std=[0.229])\n",
        "        ])\n",
        "\n",
        "    def extract_noise(self, image_path):\n",
        "        img = cv2.imread(image_path, cv2.IMREAD_GRAYSCALE)\n",
        "        blurred = cv2.GaussianBlur(img, (5, 5), 0)\n",
        "        noise = cv2.absdiff(img, blurred)\n",
        "        return Image.fromarray(noise)\n",
        "\n",
        "    def __len__(self):\n",
        "        return len(self.image_paths)\n",
        "\n",
        "    def __getitem__(self, idx):\n",
        "        noise_image = self.extract_noise(self.image_paths[idx])\n",
        "        img_tensor = self.transform(noise_image)\n",
        "        label = self.labels[idx]\n",
        "        return img_tensor, label\n",
        "\n",
        "# 定义数据集路径\n",
        "real_images_path = '/content/drive/MyDrive/Real'\n",
        "ai_images_path = '/content/drive/MyDrive/fake'\n",
        "\n",
        "# 加载数据集\n",
        "real_dataset = NoiseDataset(real_images_path, label=0)\n",
        "ai_dataset = NoiseDataset(ai_images_path, label=1)\n",
        "\n",
        "# 合并数据集\n",
        "full_dataset = real_dataset + ai_dataset\n",
        "\n",
        "# 划分测试集（10% 用于测试）\n",
        "labels = [label for _, label in full_dataset]\n",
        "train_val_indices, test_indices = train_test_split(\n",
        "    range(len(full_dataset)), test_size=0.1, stratify=labels, random_state=42\n",
        ")\n",
        "\n",
        "train_val_dataset = Subset(full_dataset, train_val_indices)\n",
        "test_dataset = Subset(full_dataset, test_indices)\n",
        "\n",
        "print(f\"Training+Validation set size: {len(train_val_dataset)}\")\n",
        "print(f\"Test set size: {len(test_dataset)}\")\n",
        "\n",
        "# 加载预训练的MobileNetV2模型并修改第一层卷积层\n",
        "model = models.mobilenet_v2(weights=models.MobileNet_V2_Weights.DEFAULT)\n",
        "original_conv = model.features[0][0]\n",
        "\n",
        "model.features[0][0] = nn.Conv2d(\n",
        "    in_channels=1,\n",
        "    out_channels=original_conv.out_channels,\n",
        "    kernel_size=original_conv.kernel_size,\n",
        "    stride=original_conv.stride,\n",
        "    padding=original_conv.padding,\n",
        "    bias=original_conv.bias is not None\n",
        ")\n",
        "with torch.no_grad():\n",
        "    model.features[0][0].weight = nn.Parameter(original_conv.weight.sum(dim=1, keepdim=True))\n",
        "\n",
        "# 修改最后的全连接层为 2 类输出\n",
        "num_ftrs = model.classifier[1].in_features\n",
        "model.classifier[1] = nn.Linear(num_ftrs, 2)\n",
        "\n",
        "# 将模型移动到设备上\n",
        "model = model.to(device)\n",
        "\n",
        "# 定义 K 折交叉验证\n",
        "k_folds = 5\n",
        "kfold = KFold(n_splits=k_folds, shuffle=True, random_state=42)\n",
        "\n",
        "# 定义损失函数\n",
        "criterion = nn.CrossEntropyLoss()\n",
        "\n",
        "# 用于保存最佳模型权重\n",
        "best_model_wts = None\n",
        "best_acc = 0.0\n",
        "\n",
        "# 开始 K 折交叉验证\n",
        "for fold, (train_ids, val_ids) in enumerate(kfold.split(train_val_indices)):\n",
        "    print(f'\\nFold {fold + 1}\\n-------------------')\n",
        "\n",
        "    train_loader = DataLoader(Subset(train_val_dataset, train_ids), batch_size=8, shuffle=True)\n",
        "    val_loader = DataLoader(Subset(train_val_dataset, val_ids), batch_size=8, shuffle=False)\n",
        "\n",
        "    # 定义优化器\n",
        "    optimizer = optim.Adam(model.parameters(), lr=0.0001)\n",
        "\n",
        "    # 训练模型\n",
        "    num_epochs = 5\n",
        "    for epoch in range(num_epochs):\n",
        "        model.train()\n",
        "        running_loss = 0.0\n",
        "\n",
        "        for data, target in train_loader:\n",
        "            data, target = data.to(device), target.to(device)\n",
        "            optimizer.zero_grad()\n",
        "            outputs = model(data)\n",
        "            loss = criterion(outputs, target)\n",
        "            loss.backward()\n",
        "            optimizer.step()\n",
        "            running_loss += loss.item()\n",
        "\n",
        "        avg_loss = running_loss / len(train_loader)\n",
        "        print(f'Epoch [{epoch + 1}/{num_epochs}], Loss: {avg_loss:.4f}')\n",
        "\n",
        "    # 验证模型\n",
        "    model.eval()\n",
        "    correct, total = 0, 0\n",
        "    with torch.no_grad():\n",
        "        for data, target in val_loader:\n",
        "            data, target = data.to(device), target.to(device)\n",
        "            outputs = model(data)\n",
        "            _, predicted = torch.max(outputs.data, 1)\n",
        "            total += target.size(0)\n",
        "            correct += (predicted == target).sum().item()\n",
        "\n",
        "    accuracy = 100 * correct / total\n",
        "    print(f'Fold {fold + 1} Accuracy: {accuracy:.2f}%')\n",
        "\n",
        "    # 保存最佳模型\n",
        "    if accuracy > best_acc:\n",
        "        best_acc = accuracy\n",
        "        best_model_wts = model.state_dict()\n",
        "\n",
        "# 加载最佳模型权重\n",
        "model.load_state_dict(best_model_wts)\n",
        "\n",
        "# 在测试集上评估模型\n",
        "test_loader = DataLoader(test_dataset, batch_size=8, shuffle=False)\n",
        "model.eval()\n",
        "correct, total = 0, 0\n",
        "\n",
        "with torch.no_grad():\n",
        "    for data, target in test_loader:\n",
        "        data, target = data.to(device), target.to(device)\n",
        "        outputs = model(data)\n",
        "        _, predicted = torch.max(outputs.data, 1)\n",
        "        total += target.size(0)\n",
        "        correct += (predicted == target).sum().item()\n",
        "\n",
        "test_accuracy = 100 * correct / total\n",
        "print(f'\\nTest Accuracy: {test_accuracy:.2f}%')\n"
      ]
    }
  ],
  "metadata": {
    "accelerator": "GPU",
    "colab": {
      "gpuType": "A100",
      "machine_shape": "hm",
      "provenance": [],
      "authorship_tag": "ABX9TyMWLThcB8kmKiLPpMkhpQ22",
      "include_colab_link": true
    },
    "kernelspec": {
      "display_name": "Python 3",
      "name": "python3"
    },
    "language_info": {
      "name": "python"
    }
  },
  "nbformat": 4,
  "nbformat_minor": 0
}